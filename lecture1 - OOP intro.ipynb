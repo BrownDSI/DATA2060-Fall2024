{
 "cells": [
  {
   "cell_type": "markdown",
   "id": "95954e3e",
   "metadata": {},
   "source": [
    "# Object Oriented Programing\n",
    "\n",
    "- OOP is a method of structuring your code into reusable units called classes\n",
    "- a class is like a blueprint and it does two things:\n",
    "    - it describes the properties (aka attributes) the object can have\n",
    "    - it also describes the behaviors (aka methods) of the object\n",
    "- when you fill up the template, you create an object\n",
    "    - an object is an instance of a class"
   ]
  },
  {
   "cell_type": "markdown",
   "id": "efd17942-feec-4dff-8da5-ede038cc670a",
   "metadata": {},
   "source": [
    "## The advantages of OOP in data science\n",
    "\n",
    "- modularity:\n",
    "    - it breaks down large and complex programs into smaller, managable pieces (objects and their methods)\n",
    "    - the code is easier to read and maintain as a result\n",
    "\n",
    "\n",
    "- reusability:\n",
    "    - objects and classes can be reused across different projects or within different parts of the same project\n",
    "\n",
    "\n",
    "- scalability:\n",
    "    - easy to scale your programs as they grow by adding new objects or methods\n",
    "    - changes won't affect the entire code base, only specific objects\n",
    "\n",
    "\n",
    "- abstraction:\n",
    "    - OOP abstracts away the details of data processing and modeling\n",
    "    - it helps users to focus more on analysis rather than the underlying complex code\n",
    "\n",
    "\n",
    "- most data science packages are object oriented because of these reasons!!!\n",
    "    - numpy, pandas, sklearn, matplotlib, tensorflow, keras, pytorch, etc."
   ]
  },
  {
   "cell_type": "markdown",
   "id": "3f6ceb50-1676-415f-b3de-80557c826eb9",
   "metadata": {},
   "source": [
    "## Let's take a look at a simple example!"
   ]
  },
  {
   "cell_type": "code",
   "execution_count": 1,
   "id": "29d972d9-8d49-44a5-aa7d-ccb2c75a813e",
   "metadata": {},
   "outputs": [],
   "source": [
    "class DataPoint:\n",
    "    def __init__(self, x, y):\n",
    "        self.x = x\n",
    "        self.y = y\n",
    "        \n",
    "    def distance_from_origin(self):\n",
    "        return (self.x**2 + self.y**2) ** 0.5\n",
    "\n",
    "point1 = DataPoint(3, 4)"
   ]
  },
  {
   "cell_type": "markdown",
   "id": "232b5603-bfff-4dd6-bbc2-e6b7760e7b5d",
   "metadata": {},
   "source": [
    "- DataPoint is the class, point1 is an instance of the class (an object)\n",
    "- `__init__` contains the attributes of the class\n",
    "    - `self.x` and `self.y` in this case"
   ]
  },
  {
   "cell_type": "code",
   "execution_count": 2,
   "id": "410afe5c-8462-4be0-847c-77329ddf18f6",
   "metadata": {},
   "outputs": [
    {
     "name": "stdout",
     "output_type": "stream",
     "text": [
      "3\n",
      "4\n"
     ]
    }
   ],
   "source": [
    "# print the attributes of the point1 object\n",
    "print(point1.x) # Note: no parenthesis is used after .x \n",
    "print(point1.y) # Note: no parenthesis is used after .y"
   ]
  },
  {
   "cell_type": "markdown",
   "id": "f103026b-bf89-4b1c-a206-a738434a2454",
   "metadata": {},
   "source": [
    "- distance_from_origin is a method of the DataPoint class\n",
    "- it calculates the distance of the point from the origin (0,0)"
   ]
  },
  {
   "cell_type": "code",
   "execution_count": 3,
   "id": "d0068aa4-b7ee-4a81-8984-e56094b917d5",
   "metadata": {},
   "outputs": [
    {
     "name": "stdout",
     "output_type": "stream",
     "text": [
      "5.0\n"
     ]
    }
   ],
   "source": [
    "print(point1.distance_from_origin()) # Note: parenthesis is used when a method is called"
   ]
  },
  {
   "cell_type": "markdown",
   "id": "54eaca83-be62-485f-8ad8-da3c06529a98",
   "metadata": {},
   "source": [
    "- **encapsulation**, **inheritance**, and **polymorphism** are more advanced OOP concents that we won't use in this class\n",
    "- they are important when you work with multiple objects\n",
    "- but we will have one object per home work to keep things simpler\n",
    "- feel free to look up those terms though if you want to learn more about OOP"
   ]
  },
  {
   "cell_type": "markdown",
   "id": "1048777e",
   "metadata": {},
   "source": [
    "## Typical class structure in this course"
   ]
  },
  {
   "cell_type": "code",
   "execution_count": null,
   "id": "58890971",
   "metadata": {},
   "outputs": [],
   "source": [
    "class ML_algorithm:\n",
    "    '''\n",
    "    The class of a supervised ML algorithm, a mathematical function which converts feature values into prediction.\n",
    "    It minimizes a loss function using some optimization algorithm in train.\n",
    "    It uses the trained model to provide predictions.\n",
    "    '''\n",
    "    def __init__(self, hyperparameter1, hyperparameter2, ...):\n",
    "        '''\n",
    "        the attributes of the model\n",
    "        '''\n",
    "        # hyperparameters like regularization, kernel width, max depth, etc.\n",
    "        # hyperparameters are not updated by the methods of the class!\n",
    "        # when you do cross-validation, you'd create a new object for each hyperparameter combination\n",
    "        self.hyperparameter1 = hyperparameter1\n",
    "        self.hyperparameter2 = hyperparameter2\n",
    "        ...\n",
    "        # you would initialize any other model parameters here (e.g., weights in linear and logistic regression)\n",
    "        # these parameters are updated by .train() to minimize the loss\n",
    "        self.parameters = ...\n",
    "        \n",
    "    def train(self, X, Y):\n",
    "        '''\n",
    "        Trains the ML model by finding the optimal set of parameters using an optimization algorithm.\n",
    "        In sklearn .train() is often called .fit()\n",
    "        @params:\n",
    "            X: 2D Numpy array where each row contains an example, padded by 1 column for the bias\n",
    "            Y: 1D Numpy array containing the corresponding values for each example\n",
    "        @return:\n",
    "            None - self.parameters will be updated, nothing needs to be returned\n",
    "        '''\n",
    "        # [TODO]\n",
    "\n",
    "\n",
    "    def predict(self, X):\n",
    "        '''\n",
    "        Returns predictions of the model on a set of examples X.\n",
    "        @params:\n",
    "            X: a 2D Numpy array where each row contains an example, padded by 1 column for the bias\n",
    "        @return:\n",
    "            A 1D Numpy array with one element for each row in X containing the predicted value.\n",
    "        '''\n",
    "        # [TODO]\n",
    "        return y_pred\n",
    "\n",
    "\n",
    "    def loss(self, X, Y):\n",
    "        '''\n",
    "        Returns the loss function on some dataset (X, Y).\n",
    "        @params:\n",
    "            X: 2D Numpy array where each row contains an example, padded by 1 column for the bias\n",
    "            Y: 1D Numpy array containing the corresponding values for each example\n",
    "        @return:\n",
    "            A float number which is the loss of the model on the dataset\n",
    "        '''\n",
    "        # [TODO]\n",
    "        return loss"
   ]
  },
  {
   "cell_type": "markdown",
   "id": "2ec94aba",
   "metadata": {},
   "source": [
    "## When not to use OOP?\n",
    "- simple problems don't require OOP, defining classes and methods can sometimes be an overkill\n",
    "- OOP can introduce computational overhead (both memory and speed), not ideal for high performance computing\n",
    "- OOP is not ideal for parallelism\n",
    "- not ideal for data-heavy applications like transformations and pipelines\n",
    "    - functional programing is often easier to read, maintain, and often also faster in this case\n",
    "    - retail example (below)\n",
    "        - you work with the log files of a retail company\n",
    "        - each row in the log describes a customer buying a certain product\n",
    "        - you have the idea to write a customer class to handle the data"
   ]
  },
  {
   "cell_type": "code",
   "execution_count": null,
   "id": "04c6f636",
   "metadata": {},
   "outputs": [],
   "source": [
    "class customer:\n",
    "    \"\"\"\n",
    "    a class to collect all data on a customer and to calculate some stats\n",
    "    \n",
    "    \"\"\"\n",
    "    def __init__(self,customer_ID,DataFrame):\n",
    "        self.customer_ID = customer_ID\n",
    "        self.data = DataFrame[DataFrame['customer'] == self.customer_ID]\n",
    "        \n",
    "    def nr_products_bought(self):\n",
    "        return self.data.shape(0) # return number of rows\n",
    "    \n",
    "    def avg_price(self):\n",
    "        return self.data['price'].mean()\n",
    "    \n",
    "# open the log file\n",
    "df = pd.read_csv('log_file.csv')\n",
    "customers = []\n",
    "for customer_ID in customer_IDs:\n",
    "    customer = customer(customer_ID,df) # we create a customer object\n",
    "    customers.append(customer) # store it in a list"
   ]
  },
  {
   "cell_type": "markdown",
   "id": "196fd80b",
   "metadata": {},
   "source": [
    "- the approach above is very slow...\n",
    "- sometimes it is better to manipulate data on all customers at once (vectorization)\n"
   ]
  },
  {
   "cell_type": "markdown",
   "id": "5db28613",
   "metadata": {},
   "source": [
    "# Time for our first Mud card!"
   ]
  },
  {
   "cell_type": "code",
   "execution_count": null,
   "id": "b6679df9-8b9c-4c95-b4b8-5be77a337583",
   "metadata": {},
   "outputs": [],
   "source": []
  }
 ],
 "metadata": {
  "kernelspec": {
   "display_name": "Python 3 (ipykernel)",
   "language": "python",
   "name": "python3"
  },
  "language_info": {
   "codemirror_mode": {
    "name": "ipython",
    "version": 3
   },
   "file_extension": ".py",
   "mimetype": "text/x-python",
   "name": "python",
   "nbconvert_exporter": "python",
   "pygments_lexer": "ipython3",
   "version": "3.12.7"
  }
 },
 "nbformat": 4,
 "nbformat_minor": 5
}
